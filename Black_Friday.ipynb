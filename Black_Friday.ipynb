{
 "cells": [
  {
   "cell_type": "code",
   "execution_count": 1,
   "metadata": {},
   "outputs": [],
   "source": [
    "# import libraries\n",
    "import numpy as np\n",
    "import pandas as pd\n"
   ]
  },
  {
   "cell_type": "code",
   "execution_count": 2,
   "metadata": {
    "scrolled": true
   },
   "outputs": [
    {
     "data": {
      "text/html": [
       "<div>\n",
       "<style scoped>\n",
       "    .dataframe tbody tr th:only-of-type {\n",
       "        vertical-align: middle;\n",
       "    }\n",
       "\n",
       "    .dataframe tbody tr th {\n",
       "        vertical-align: top;\n",
       "    }\n",
       "\n",
       "    .dataframe thead th {\n",
       "        text-align: right;\n",
       "    }\n",
       "</style>\n",
       "<table border=\"1\" class=\"dataframe\">\n",
       "  <thead>\n",
       "    <tr style=\"text-align: right;\">\n",
       "      <th></th>\n",
       "      <th>User ID</th>\n",
       "      <th>Product Category</th>\n",
       "      <th>Gender</th>\n",
       "      <th>Age Range</th>\n",
       "      <th>City</th>\n",
       "      <th>Customer Source</th>\n",
       "      <th>Subscribed to Newsletter</th>\n",
       "      <th>CPA</th>\n",
       "      <th>Order Amount</th>\n",
       "    </tr>\n",
       "  </thead>\n",
       "  <tbody>\n",
       "    <tr>\n",
       "      <th>0</th>\n",
       "      <td>1000001</td>\n",
       "      <td>Pets</td>\n",
       "      <td>F</td>\n",
       "      <td>18-25</td>\n",
       "      <td>San Jose</td>\n",
       "      <td>Blog</td>\n",
       "      <td>No</td>\n",
       "      <td>NaN</td>\n",
       "      <td>83.70</td>\n",
       "    </tr>\n",
       "    <tr>\n",
       "      <th>1</th>\n",
       "      <td>1000001</td>\n",
       "      <td>Pets</td>\n",
       "      <td>F</td>\n",
       "      <td>18-25</td>\n",
       "      <td>San Jose</td>\n",
       "      <td>Blog</td>\n",
       "      <td>No</td>\n",
       "      <td>NaN</td>\n",
       "      <td>10.57</td>\n",
       "    </tr>\n",
       "    <tr>\n",
       "      <th>2</th>\n",
       "      <td>1000001</td>\n",
       "      <td>Grocery</td>\n",
       "      <td>F</td>\n",
       "      <td>18-25</td>\n",
       "      <td>San Jose</td>\n",
       "      <td>Blog</td>\n",
       "      <td>No</td>\n",
       "      <td>NaN</td>\n",
       "      <td>128.42</td>\n",
       "    </tr>\n",
       "    <tr>\n",
       "      <th>3</th>\n",
       "      <td>1000001</td>\n",
       "      <td>Grocery</td>\n",
       "      <td>F</td>\n",
       "      <td>18-25</td>\n",
       "      <td>San Jose</td>\n",
       "      <td>Blog</td>\n",
       "      <td>No</td>\n",
       "      <td>NaN</td>\n",
       "      <td>14.22</td>\n",
       "    </tr>\n",
       "    <tr>\n",
       "      <th>4</th>\n",
       "      <td>1000001</td>\n",
       "      <td>Grocery</td>\n",
       "      <td>F</td>\n",
       "      <td>18-25</td>\n",
       "      <td>San Jose</td>\n",
       "      <td>Blog</td>\n",
       "      <td>No</td>\n",
       "      <td>NaN</td>\n",
       "      <td>152.00</td>\n",
       "    </tr>\n",
       "  </tbody>\n",
       "</table>\n",
       "</div>"
      ],
      "text/plain": [
       "   User ID Product Category Gender Age Range      City Customer Source  \\\n",
       "0  1000001             Pets      F     18-25  San Jose            Blog   \n",
       "1  1000001             Pets      F     18-25  San Jose            Blog   \n",
       "2  1000001          Grocery      F     18-25  San Jose            Blog   \n",
       "3  1000001          Grocery      F     18-25  San Jose            Blog   \n",
       "4  1000001          Grocery      F     18-25  San Jose            Blog   \n",
       "\n",
       "  Subscribed to Newsletter  CPA  Order Amount  \n",
       "0                       No  NaN         83.70  \n",
       "1                       No  NaN         10.57  \n",
       "2                       No  NaN        128.42  \n",
       "3                       No  NaN         14.22  \n",
       "4                       No  NaN        152.00  "
      ]
     },
     "execution_count": 2,
     "metadata": {},
     "output_type": "execute_result"
    }
   ],
   "source": [
    "# load 2017 dataset\n",
    "df_2017 = pd.read_excel('Black_Friday_Dataset.xlsx', sheet_name='2017 Black Friday')\n",
    "df_2017.head()"
   ]
  },
  {
   "cell_type": "code",
   "execution_count": 17,
   "metadata": {},
   "outputs": [
    {
     "data": {
      "text/plain": [
       "1909"
      ]
     },
     "execution_count": 17,
     "metadata": {},
     "output_type": "execute_result"
    }
   ],
   "source": [
    "# number of returned users for 2017\n",
    "sum(df_2017['User ID'].value_counts() != 1)"
   ]
  },
  {
   "cell_type": "code",
   "execution_count": 3,
   "metadata": {},
   "outputs": [
    {
     "data": {
      "text/html": [
       "<div>\n",
       "<style scoped>\n",
       "    .dataframe tbody tr th:only-of-type {\n",
       "        vertical-align: middle;\n",
       "    }\n",
       "\n",
       "    .dataframe tbody tr th {\n",
       "        vertical-align: top;\n",
       "    }\n",
       "\n",
       "    .dataframe thead th {\n",
       "        text-align: right;\n",
       "    }\n",
       "</style>\n",
       "<table border=\"1\" class=\"dataframe\">\n",
       "  <thead>\n",
       "    <tr style=\"text-align: right;\">\n",
       "      <th></th>\n",
       "      <th>User ID</th>\n",
       "      <th>Product Category</th>\n",
       "      <th>Gender</th>\n",
       "      <th>Age Range</th>\n",
       "      <th>City</th>\n",
       "      <th>Customer Source</th>\n",
       "      <th>Subscribed to Newsletter</th>\n",
       "      <th>CPA</th>\n",
       "      <th>Order Amount</th>\n",
       "    </tr>\n",
       "  </thead>\n",
       "  <tbody>\n",
       "    <tr>\n",
       "      <th>0</th>\n",
       "      <td>1002610</td>\n",
       "      <td>Grocery</td>\n",
       "      <td>M</td>\n",
       "      <td>46-50</td>\n",
       "      <td>San Antonio</td>\n",
       "      <td>Social</td>\n",
       "      <td>No</td>\n",
       "      <td>NaN</td>\n",
       "      <td>54.06</td>\n",
       "    </tr>\n",
       "    <tr>\n",
       "      <th>1</th>\n",
       "      <td>1002611</td>\n",
       "      <td>Toys</td>\n",
       "      <td>M</td>\n",
       "      <td>26-35</td>\n",
       "      <td>Chicago</td>\n",
       "      <td>Paid</td>\n",
       "      <td>No</td>\n",
       "      <td>13.0166</td>\n",
       "      <td>17.59</td>\n",
       "    </tr>\n",
       "    <tr>\n",
       "      <th>2</th>\n",
       "      <td>1002611</td>\n",
       "      <td>Pets</td>\n",
       "      <td>M</td>\n",
       "      <td>26-35</td>\n",
       "      <td>Chicago</td>\n",
       "      <td>Paid</td>\n",
       "      <td>No</td>\n",
       "      <td>64.5480</td>\n",
       "      <td>71.72</td>\n",
       "    </tr>\n",
       "    <tr>\n",
       "      <th>3</th>\n",
       "      <td>1002611</td>\n",
       "      <td>Grocery</td>\n",
       "      <td>M</td>\n",
       "      <td>26-35</td>\n",
       "      <td>Chicago</td>\n",
       "      <td>Paid</td>\n",
       "      <td>No</td>\n",
       "      <td>125.6157</td>\n",
       "      <td>80.01</td>\n",
       "    </tr>\n",
       "    <tr>\n",
       "      <th>4</th>\n",
       "      <td>1002611</td>\n",
       "      <td>Clothing</td>\n",
       "      <td>M</td>\n",
       "      <td>26-35</td>\n",
       "      <td>Chicago</td>\n",
       "      <td>Paid</td>\n",
       "      <td>No</td>\n",
       "      <td>14.3673</td>\n",
       "      <td>17.31</td>\n",
       "    </tr>\n",
       "  </tbody>\n",
       "</table>\n",
       "</div>"
      ],
      "text/plain": [
       "   User ID Product Category Gender Age Range         City Customer Source  \\\n",
       "0  1002610          Grocery      M     46-50  San Antonio          Social   \n",
       "1  1002611             Toys      M     26-35      Chicago            Paid   \n",
       "2  1002611             Pets      M     26-35      Chicago            Paid   \n",
       "3  1002611          Grocery      M     26-35      Chicago            Paid   \n",
       "4  1002611         Clothing      M     26-35      Chicago            Paid   \n",
       "\n",
       "  Subscribed to Newsletter       CPA  Order Amount  \n",
       "0                       No       NaN         54.06  \n",
       "1                       No   13.0166         17.59  \n",
       "2                       No   64.5480         71.72  \n",
       "3                       No  125.6157         80.01  \n",
       "4                       No   14.3673         17.31  "
      ]
     },
     "execution_count": 3,
     "metadata": {},
     "output_type": "execute_result"
    }
   ],
   "source": [
    "# load 2018 dataset\n",
    "df_2018 = pd.read_excel('Black_Friday_Dataset.xlsx', sheet_name='2018 Black Friday')\n",
    "df_2018.head()"
   ]
  },
  {
   "cell_type": "code",
   "execution_count": 19,
   "metadata": {},
   "outputs": [
    {
     "data": {
      "text/plain": [
       "2589"
      ]
     },
     "execution_count": 19,
     "metadata": {},
     "output_type": "execute_result"
    }
   ],
   "source": [
    "# number of returned users for 2018\n",
    "sum(df_2018['User ID'].value_counts() != 1)"
   ]
  },
  {
   "cell_type": "code",
   "execution_count": 20,
   "metadata": {},
   "outputs": [
    {
     "data": {
      "text/plain": [
       "(17311, 22391)"
      ]
     },
     "execution_count": 20,
     "metadata": {},
     "output_type": "execute_result"
    }
   ],
   "source": [
    "# number of orders\n",
    "df_2017.shape[0], df_2018.shape[0]"
   ]
  },
  {
   "cell_type": "code",
   "execution_count": 21,
   "metadata": {},
   "outputs": [
    {
     "data": {
      "text/plain": [
       "count    17311.000000\n",
       "mean        92.132970\n",
       "std         49.004795\n",
       "min          1.860000\n",
       "25%         58.425000\n",
       "50%         80.360000\n",
       "75%        119.740000\n",
       "max        239.580000\n",
       "Name: Order Amount, dtype: float64"
      ]
     },
     "execution_count": 21,
     "metadata": {},
     "output_type": "execute_result"
    }
   ],
   "source": [
    "df_2017['Order Amount'].describe()"
   ]
  },
  {
   "cell_type": "code",
   "execution_count": 24,
   "metadata": {
    "scrolled": true
   },
   "outputs": [
    {
     "data": {
      "text/plain": [
       "count    22391.000000\n",
       "mean        93.449665\n",
       "std         49.929574\n",
       "min          1.850000\n",
       "25%         58.800000\n",
       "50%         80.630000\n",
       "75%        120.910000\n",
       "max        239.560000\n",
       "Name: Order Amount, dtype: float64"
      ]
     },
     "execution_count": 24,
     "metadata": {},
     "output_type": "execute_result"
    }
   ],
   "source": [
    "df_2018['Order Amount'].describe()"
   ]
  },
  {
   "cell_type": "code",
   "execution_count": 29,
   "metadata": {},
   "outputs": [
    {
     "data": {
      "text/plain": [
       "(1594910.0, 2092431.0)"
      ]
     },
     "execution_count": 29,
     "metadata": {},
     "output_type": "execute_result"
    }
   ],
   "source": [
    "# order amount\n",
    "order_amount_2017 = df_2017['Order Amount'].sum().round()\n",
    "order_amount_2018 = df_2018['Order Amount'].sum().round()\n",
    "order_amount_2017, order_amount_2018"
   ]
  },
  {
   "cell_type": "code",
   "execution_count": 30,
   "metadata": {},
   "outputs": [
    {
     "data": {
      "text/plain": [
       "(607610.0, 837156.0)"
      ]
     },
     "execution_count": 30,
     "metadata": {},
     "output_type": "execute_result"
    }
   ],
   "source": [
    "# CPA\n",
    "cpa_2017 = df_2017['CPA'].sum().round()\n",
    "cpa_2018 = df_2018['CPA'].sum().round()\n",
    "cpa_2017, cpa_2018"
   ]
  },
  {
   "cell_type": "code",
   "execution_count": null,
   "metadata": {},
   "outputs": [],
   "source": [
    "# revenue\n",
    "revenue_2017 = order_amount_2017 - cpa_2017\n"
   ]
  }
 ],
 "metadata": {
  "hide_input": false,
  "kernelspec": {
   "display_name": "Python 3",
   "language": "python",
   "name": "python3"
  },
  "language_info": {
   "codemirror_mode": {
    "name": "ipython",
    "version": 3
   },
   "file_extension": ".py",
   "mimetype": "text/x-python",
   "name": "python",
   "nbconvert_exporter": "python",
   "pygments_lexer": "ipython3",
   "version": "3.7.3"
  },
  "latex_envs": {
   "LaTeX_envs_menu_present": true,
   "autoclose": false,
   "autocomplete": true,
   "bibliofile": "biblio.bib",
   "cite_by": "apalike",
   "current_citInitial": 1,
   "eqLabelWithNumbers": true,
   "eqNumInitial": 1,
   "hotkeys": {
    "equation": "Ctrl-E",
    "itemize": "Ctrl-I"
   },
   "labels_anchors": false,
   "latex_user_defs": false,
   "report_style_numbering": false,
   "user_envs_cfg": false
  },
  "toc": {
   "base_numbering": 1,
   "nav_menu": {},
   "number_sections": true,
   "sideBar": true,
   "skip_h1_title": false,
   "title_cell": "Table of Contents",
   "title_sidebar": "Contents",
   "toc_cell": false,
   "toc_position": {},
   "toc_section_display": true,
   "toc_window_display": false
  },
  "varInspector": {
   "cols": {
    "lenName": 16,
    "lenType": 16,
    "lenVar": 40
   },
   "kernels_config": {
    "python": {
     "delete_cmd_postfix": "",
     "delete_cmd_prefix": "del ",
     "library": "var_list.py",
     "varRefreshCmd": "print(var_dic_list())"
    },
    "r": {
     "delete_cmd_postfix": ") ",
     "delete_cmd_prefix": "rm(",
     "library": "var_list.r",
     "varRefreshCmd": "cat(var_dic_list()) "
    }
   },
   "types_to_exclude": [
    "module",
    "function",
    "builtin_function_or_method",
    "instance",
    "_Feature"
   ],
   "window_display": false
  }
 },
 "nbformat": 4,
 "nbformat_minor": 2
}
